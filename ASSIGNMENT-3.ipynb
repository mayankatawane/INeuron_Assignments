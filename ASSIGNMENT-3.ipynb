{
 "cells": [
  {
   "cell_type": "markdown",
   "metadata": {},
   "source": [
    "# 1.1 \n",
    "# Write a Python Program to implement your own myreduce() function which works exactly like Python's built-in function reduce()\n"
   ]
  },
  {
   "cell_type": "code",
   "execution_count": 1,
   "metadata": {},
   "outputs": [],
   "source": [
    "# 1 \n",
    "# Write a Python Program to implement your own myreduce() function which works exactly\n",
    "#like Python's built-in function reduce()\n",
    "def myreduce(func,seq):\n",
    "    \n",
    "    placeholder = seq[0]\n",
    "    \n",
    "    for ele in seq[1:]:\n",
    "        \n",
    "        placeholder = func(placeholder,ele)\n",
    "        \n",
    "    return placeholder\n"
   ]
  },
  {
   "cell_type": "code",
   "execution_count": 2,
   "metadata": {},
   "outputs": [],
   "source": [
    "def cal_sum(x,y):\n",
    "    return x + y"
   ]
  },
  {
   "cell_type": "code",
   "execution_count": 3,
   "metadata": {},
   "outputs": [
    {
     "name": "stdout",
     "output_type": "stream",
     "text": [
      "53\n"
     ]
    }
   ],
   "source": [
    "print (myreduce(cal_sum,[1,-11,45,-78,96]))\n"
   ]
  },
  {
   "cell_type": "code",
   "execution_count": 4,
   "metadata": {},
   "outputs": [
    {
     "name": "stdout",
     "output_type": "stream",
     "text": [
      "abcd\n"
     ]
    }
   ],
   "source": [
    "print (myreduce(cal_sum,['a','b','c','d']))\n"
   ]
  },
  {
   "cell_type": "markdown",
   "metadata": {},
   "source": [
    "# 1.2\n",
    "\n",
    "#  Write a Python program to implement your own myfilter() function which works exactly like Python's built-in function filter()"
   ]
  },
  {
   "cell_type": "code",
   "execution_count": 5,
   "metadata": {},
   "outputs": [],
   "source": [
    "def myfilter(func,iterable):\n",
    "    \n",
    "    result = []\n",
    "    \n",
    "    for ele in iterable:\n",
    "        \n",
    "        if func(ele) == True:\n",
    "            \n",
    "            result.append(ele)\n",
    "            \n",
    "    return result"
   ]
  },
  {
   "cell_type": "code",
   "execution_count": 6,
   "metadata": {},
   "outputs": [],
   "source": [
    "def check_condition(item):\n",
    "    \n",
    "    # HERE WE ARE FILTERING BASICALLY THOSE NUMBERS WHO ARE GREATER OR EQUAL TO 0 IN GIVEN ITERABLE\n",
    "    \n",
    "    if item >= 0:\n",
    "        \n",
    "        return True\n",
    "    \n",
    "    else:\n",
    "        \n",
    "        return False\n",
    "    \n",
    "    "
   ]
  },
  {
   "cell_type": "code",
   "execution_count": 7,
   "metadata": {},
   "outputs": [
    {
     "name": "stdout",
     "output_type": "stream",
     "text": [
      "[7, 8, 6, 0, 63, 76, 22]\n"
     ]
    }
   ],
   "source": [
    "print(myfilter(check_condition,[7,-45,8,6,0,-11,63,76,22]))"
   ]
  },
  {
   "cell_type": "markdown",
   "metadata": {},
   "source": [
    "# QUE-2 USING LIST COMPREHENSION"
   ]
  },
  {
   "cell_type": "code",
   "execution_count": 23,
   "metadata": {},
   "outputs": [
    {
     "name": "stdout",
     "output_type": "stream",
     "text": [
      "['x', 'xx', 'xxx', 'xxxx', 'y', 'yy', 'yyy', 'yyyy', 'z', 'zz', 'zzz', 'zzzz']\n",
      "['x', 'y', 'z', 'xx', 'yy', 'zz', 'xxx', 'yyy', 'zzz', 'xxxx', 'yyyy', 'zzzz']\n",
      "[[2], [3], [4], [3], [4], [5], [4], [5], [6]]\n",
      "[[2, 3, 4, 5], [3, 4, 5, 6], [4, 5, 6, 7], [5, 6, 7, 8]]\n",
      "[(1, 1), (2, 1), (3, 1), (1, 2), (2, 2), (3, 2), (1, 3), (2, 3), (3, 3)]\n"
     ]
    }
   ],
   "source": [
    "#A . # ['x', 'xx', 'xxx', 'xxxx', 'y', 'yy', 'yyy', 'yyyy', 'z', 'zz', 'zzz', 'zzzz']\n",
    "\n",
    "\n",
    "#lst = []\n",
    "\n",
    "#lst1 = ['x','y','z']\n",
    "\n",
    "#for ele in lst1:\n",
    "\n",
    "    #for i in range(1,5):\n",
    "        \n",
    "        #lst.append(ele*i)\n",
    "          \n",
    "#print(lst)\n",
    "\n",
    "#------------------ANS1 -----------------#\n",
    "\n",
    "# CONVERTING INTO LIST COMPREHENSION\n",
    "\n",
    "print([ele*i for ele in ['x','y','z'] for i in range(1,5)])\n",
    "\n",
    "\n",
    "#------------------------------------------------------#\n",
    "\n",
    "# B. ['x', 'y', 'z', 'xx', 'yy', 'zz', 'xxx', 'yyy', 'zzz', 'xxxx', 'yyyy', 'zzzz']\n",
    "\n",
    "\n",
    "#ANS:-\n",
    "\n",
    "print([ ele*i for i in range(1,5) for ele in ['x','y','z']])\n",
    "\n",
    "\n",
    "#-------------------------------------------------------\n",
    "\n",
    "# C. [[2], [3], [4], [3], [4], [5], [4], [5], [6]] \n",
    "\n",
    "new_list = [2,3,4]\n",
    "\n",
    "print([[i+ele] for i in new_list for ele in range(0,3)])\n",
    "\n",
    "#---------------------------------------------\n",
    "\n",
    "#D. [[2, 3, 4, 5], [3, 4, 5, 6], [4, 5, 6, 7], [5, 6, 7, 8]]\n",
    "\n",
    "a_new_lst = [2,3,4,5]\n",
    "\n",
    "print([[i+ele for i in a_new_lst] for ele in range(0,4)])\n",
    "\n",
    "\n",
    "#E. [(1, 1), (2, 1), (3, 1), (1, 2), (2, 2), (3, 2), (1, 3), (2, 3), (3, 3)]\n",
    "\n",
    "lst2=[1,2,3]\n",
    "print([ (j,i) for i in lst2 for j in lst2])\n",
    "\n",
    "\n"
   ]
  },
  {
   "cell_type": "code",
   "execution_count": null,
   "metadata": {},
   "outputs": [],
   "source": []
  },
  {
   "cell_type": "code",
   "execution_count": null,
   "metadata": {},
   "outputs": [],
   "source": []
  }
 ],
 "metadata": {
  "kernelspec": {
   "display_name": "Python 3",
   "language": "python",
   "name": "python3"
  },
  "language_info": {
   "codemirror_mode": {
    "name": "ipython",
    "version": 3
   },
   "file_extension": ".py",
   "mimetype": "text/x-python",
   "name": "python",
   "nbconvert_exporter": "python",
   "pygments_lexer": "ipython3",
   "version": "3.8.5"
  }
 },
 "nbformat": 4,
 "nbformat_minor": 4
}
